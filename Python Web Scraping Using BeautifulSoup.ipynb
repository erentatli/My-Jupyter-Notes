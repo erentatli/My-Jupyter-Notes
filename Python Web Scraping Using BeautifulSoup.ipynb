{
 "cells": [
  {
   "cell_type": "code",
   "execution_count": 4,
   "metadata": {
    "scrolled": false
   },
   "outputs": [
    {
     "data": {
      "text/plain": [
       "<!DOCTYPE html>\n",
       "\n",
       "<html>\n",
       "<head>\n",
       "<title>A simple example page</title>\n",
       "</head>\n",
       "<body>\n",
       "<p>Here is some simple content for this page.</p>\n",
       "</body>\n",
       "</html>"
      ]
     },
     "execution_count": 4,
     "metadata": {},
     "output_type": "execute_result"
    }
   ],
   "source": [
    "import requests\n",
    "from bs4 import BeautifulSoup\n",
    "\n",
    "page = requests.get(\"http://dataquestio.github.io/web-scraping-pages/simple.html\")\n",
    "soup = BeautifulSoup(page.content,'html.parser')\n",
    "soup"
   ]
  },
  {
   "cell_type": "code",
   "execution_count": 5,
   "metadata": {},
   "outputs": [
    {
     "data": {
      "text/plain": [
       "['html', '\\n', <html>\n",
       " <head>\n",
       " <title>A simple example page</title>\n",
       " </head>\n",
       " <body>\n",
       " <p>Here is some simple content for this page.</p>\n",
       " </body>\n",
       " </html>]"
      ]
     },
     "execution_count": 5,
     "metadata": {},
     "output_type": "execute_result"
    }
   ],
   "source": [
    "list(soup.children)"
   ]
  },
  {
   "cell_type": "code",
   "execution_count": 7,
   "metadata": {},
   "outputs": [
    {
     "data": {
      "text/plain": [
       "[bs4.element.Doctype, bs4.element.NavigableString, bs4.element.Tag]"
      ]
     },
     "execution_count": 7,
     "metadata": {},
     "output_type": "execute_result"
    }
   ],
   "source": [
    "[type(item) for item in list(soup.children)]"
   ]
  },
  {
   "cell_type": "code",
   "execution_count": 14,
   "metadata": {},
   "outputs": [
    {
     "data": {
      "text/plain": [
       "<html>\n",
       "<head>\n",
       "<title>A simple example page</title>\n",
       "</head>\n",
       "<body>\n",
       "<p>Here is some simple content for this page.</p>\n",
       "</body>\n",
       "</html>"
      ]
     },
     "execution_count": 14,
     "metadata": {},
     "output_type": "execute_result"
    }
   ],
   "source": [
    "html = list(soup.children)[2]\n",
    "html"
   ]
  },
  {
   "cell_type": "code",
   "execution_count": 15,
   "metadata": {},
   "outputs": [
    {
     "data": {
      "text/plain": [
       "['\\n', <head>\n",
       " <title>A simple example page</title>\n",
       " </head>, '\\n', <body>\n",
       " <p>Here is some simple content for this page.</p>\n",
       " </body>, '\\n']"
      ]
     },
     "execution_count": 15,
     "metadata": {},
     "output_type": "execute_result"
    }
   ],
   "source": [
    "list(html.children)"
   ]
  },
  {
   "cell_type": "code",
   "execution_count": 19,
   "metadata": {},
   "outputs": [
    {
     "data": {
      "text/plain": [
       "<body>\n",
       "<p>Here is some simple content for this page.</p>\n",
       "</body>"
      ]
     },
     "execution_count": 19,
     "metadata": {},
     "output_type": "execute_result"
    }
   ],
   "source": [
    "body = list(html.children)[3]\n",
    "body"
   ]
  },
  {
   "cell_type": "code",
   "execution_count": 20,
   "metadata": {},
   "outputs": [
    {
     "data": {
      "text/plain": [
       "['\\n', <p>Here is some simple content for this page.</p>, '\\n']"
      ]
     },
     "execution_count": 20,
     "metadata": {},
     "output_type": "execute_result"
    }
   ],
   "source": [
    "list(body.children)"
   ]
  },
  {
   "cell_type": "code",
   "execution_count": 21,
   "metadata": {},
   "outputs": [
    {
     "data": {
      "text/plain": [
       "<p>Here is some simple content for this page.</p>"
      ]
     },
     "execution_count": 21,
     "metadata": {},
     "output_type": "execute_result"
    }
   ],
   "source": [
    "p = list(body.children)[1]\n",
    "p"
   ]
  },
  {
   "cell_type": "code",
   "execution_count": 22,
   "metadata": {},
   "outputs": [
    {
     "data": {
      "text/plain": [
       "'Here is some simple content for this page.'"
      ]
     },
     "execution_count": 22,
     "metadata": {},
     "output_type": "execute_result"
    }
   ],
   "source": [
    "p.get_text()"
   ]
  },
  {
   "cell_type": "code",
   "execution_count": 26,
   "metadata": {},
   "outputs": [
    {
     "data": {
      "text/plain": [
       "<p>Here is some simple content for this page.</p>"
      ]
     },
     "execution_count": 26,
     "metadata": {},
     "output_type": "execute_result"
    }
   ],
   "source": [
    "soup = BeautifulSoup(page.content,'html.parser')\n",
    "soup.find_all('p')\n",
    "p"
   ]
  },
  {
   "cell_type": "code",
   "execution_count": 32,
   "metadata": {},
   "outputs": [
    {
     "data": {
      "text/plain": [
       "'Here is some simple content for this page.'"
      ]
     },
     "execution_count": 32,
     "metadata": {},
     "output_type": "execute_result"
    }
   ],
   "source": [
    "soup.find_all('p')[0].get_text()\n"
   ]
  },
  {
   "cell_type": "code",
   "execution_count": 33,
   "metadata": {},
   "outputs": [
    {
     "data": {
      "text/plain": [
       "<p>Here is some simple content for this page.</p>"
      ]
     },
     "execution_count": 33,
     "metadata": {},
     "output_type": "execute_result"
    }
   ],
   "source": [
    "soup.find('p')"
   ]
  },
  {
   "cell_type": "code",
   "execution_count": 68,
   "metadata": {},
   "outputs": [
    {
     "data": {
      "text/plain": [
       "<html>\n",
       "<head>\n",
       "<title>A simple example page</title>\n",
       "</head>\n",
       "<body>\n",
       "<div>\n",
       "<p class=\"inner-text first-item\" id=\"first\">\n",
       "                First paragraph.\n",
       "            </p>\n",
       "<p class=\"inner-text\">\n",
       "                Second paragraph.\n",
       "            </p>\n",
       "</div>\n",
       "<p class=\"outer-text first-item\" id=\"second\">\n",
       "<b>\n",
       "                First outer paragraph.\n",
       "            </b>\n",
       "</p>\n",
       "<p class=\"outer-text\">\n",
       "<b>\n",
       "                Second outer paragraph.\n",
       "            </b>\n",
       "</p>\n",
       "</body>\n",
       "</html>"
      ]
     },
     "execution_count": 68,
     "metadata": {},
     "output_type": "execute_result"
    }
   ],
   "source": [
    "page = requests.get('http://dataquestio.github.io/web-scraping-pages/ids_and_classes.html')\n",
    "soup = BeautifulSoup(page.content, 'html.parser')\n",
    "soup\n",
    "\n"
   ]
  },
  {
   "cell_type": "code",
   "execution_count": 69,
   "metadata": {},
   "outputs": [
    {
     "data": {
      "text/plain": [
       "[<p class=\"outer-text first-item\" id=\"second\">\n",
       " <b>\n",
       "                 First outer paragraph.\n",
       "             </b>\n",
       " </p>, <p class=\"outer-text\">\n",
       " <b>\n",
       "                 Second outer paragraph.\n",
       "             </b>\n",
       " </p>]"
      ]
     },
     "execution_count": 69,
     "metadata": {},
     "output_type": "execute_result"
    }
   ],
   "source": [
    "soup.find_all('p', class_='outer-text')"
   ]
  },
  {
   "cell_type": "code",
   "execution_count": 72,
   "metadata": {},
   "outputs": [
    {
     "data": {
      "text/plain": [
       "[<p class=\"inner-text first-item\" id=\"first\">\n",
       "                 First paragraph.\n",
       "             </p>]"
      ]
     },
     "execution_count": 72,
     "metadata": {},
     "output_type": "execute_result"
    }
   ],
   "source": [
    "soup.find_all(id='first')"
   ]
  },
  {
   "cell_type": "code",
   "execution_count": 74,
   "metadata": {},
   "outputs": [
    {
     "data": {
      "text/plain": [
       "[<p class=\"inner-text first-item\" id=\"first\">\n",
       "                 First paragraph.\n",
       "             </p>, <p class=\"inner-text\">\n",
       "                 Second paragraph.\n",
       "             </p>]"
      ]
     },
     "execution_count": 74,
     "metadata": {},
     "output_type": "execute_result"
    }
   ],
   "source": [
    "soup.select(\"div p\")"
   ]
  },
  {
   "cell_type": "code",
   "execution_count": 75,
   "metadata": {},
   "outputs": [
    {
     "data": {
      "text/plain": [
       "<Response [200]>"
      ]
     },
     "execution_count": 75,
     "metadata": {},
     "output_type": "execute_result"
    }
   ],
   "source": [
    "    web_page= \"http://forecast.weather.gov/MapClick.php?lat=37.7772&lon=-122.4168\"\n",
    "page = requests.get(\"http://forecast.weather.gov/MapClick.php?lat=37.7772&lon=-122.4168\")\n",
    "page"
   ]
  },
  {
   "cell_type": "code",
   "execution_count": 78,
   "metadata": {},
   "outputs": [
    {
     "data": {
      "text/plain": [
       "<ul class=\"list-unstyled\" id=\"seven-day-forecast-list\"><li class=\"forecast-tombstone\">\n",
       "<div class=\"tombstone-container\">\n",
       "<p class=\"period-name\">Today<br/><br/></p>\n",
       "<p><img alt=\"Today: Mostly sunny, with a high near 65. West wind 9 to 16 mph, with gusts as high as 21 mph. \" class=\"forecast-icon\" src=\"newimages/medium/sct.png\" title=\"Today: Mostly sunny, with a high near 65. West wind 9 to 16 mph, with gusts as high as 21 mph. \"/></p><p class=\"short-desc\">Mostly Sunny</p><p class=\"temp temp-high\">High: 65 °F</p></div></li><li class=\"forecast-tombstone\">\n",
       "<div class=\"tombstone-container\">\n",
       "<p class=\"period-name\">Tonight<br/><br/></p>\n",
       "<p><img alt=\"Tonight: Mostly cloudy, with a low around 55. West wind 7 to 16 mph, with gusts as high as 21 mph. \" class=\"forecast-icon\" src=\"newimages/medium/nbkn.png\" title=\"Tonight: Mostly cloudy, with a low around 55. West wind 7 to 16 mph, with gusts as high as 21 mph. \"/></p><p class=\"short-desc\">Mostly Cloudy</p><p class=\"temp temp-low\">Low: 55 °F</p></div></li><li class=\"forecast-tombstone\">\n",
       "<div class=\"tombstone-container\">\n",
       "<p class=\"period-name\">Friday<br/><br/></p>\n",
       "<p><img alt=\"Friday: Mostly sunny, with a high near 67. Light southwest wind becoming west 9 to 14 mph in the afternoon. \" class=\"forecast-icon\" src=\"newimages/medium/sct.png\" title=\"Friday: Mostly sunny, with a high near 67. Light southwest wind becoming west 9 to 14 mph in the afternoon. \"/></p><p class=\"short-desc\">Mostly Sunny</p><p class=\"temp temp-high\">High: 67 °F</p></div></li><li class=\"forecast-tombstone\">\n",
       "<div class=\"tombstone-container\">\n",
       "<p class=\"period-name\">Friday<br/>Night</p>\n",
       "<p><img alt=\"Friday Night: Mostly clear, with a low around 54. West wind 7 to 14 mph, with gusts as high as 18 mph. \" class=\"forecast-icon\" src=\"newimages/medium/nfew.png\" title=\"Friday Night: Mostly clear, with a low around 54. West wind 7 to 14 mph, with gusts as high as 18 mph. \"/></p><p class=\"short-desc\">Mostly Clear</p><p class=\"temp temp-low\">Low: 54 °F</p></div></li><li class=\"forecast-tombstone\">\n",
       "<div class=\"tombstone-container\">\n",
       "<p class=\"period-name\">Saturday<br/><br/></p>\n",
       "<p><img alt=\"Saturday: Sunny, with a high near 67. West wind 8 to 17 mph, with gusts as high as 22 mph. \" class=\"forecast-icon\" src=\"newimages/medium/few.png\" title=\"Saturday: Sunny, with a high near 67. West wind 8 to 17 mph, with gusts as high as 22 mph. \"/></p><p class=\"short-desc\">Sunny</p><p class=\"temp temp-high\">High: 67 °F</p></div></li><li class=\"forecast-tombstone\">\n",
       "<div class=\"tombstone-container\">\n",
       "<p class=\"period-name\">Saturday<br/>Night</p>\n",
       "<p><img alt=\"Saturday Night: Clear, with a low around 54.\" class=\"forecast-icon\" src=\"newimages/medium/nskc.png\" title=\"Saturday Night: Clear, with a low around 54.\"/></p><p class=\"short-desc\">Clear</p><p class=\"temp temp-low\">Low: 54 °F</p></div></li><li class=\"forecast-tombstone\">\n",
       "<div class=\"tombstone-container\">\n",
       "<p class=\"period-name\">Sunday<br/><br/></p>\n",
       "<p><img alt=\"Sunday: Sunny, with a high near 68.\" class=\"forecast-icon\" src=\"newimages/medium/few.png\" title=\"Sunday: Sunny, with a high near 68.\"/></p><p class=\"short-desc\">Sunny</p><p class=\"temp temp-high\">High: 68 °F</p></div></li><li class=\"forecast-tombstone\">\n",
       "<div class=\"tombstone-container\">\n",
       "<p class=\"period-name\">Sunday<br/>Night</p>\n",
       "<p><img alt=\"Sunday Night: Clear, with a low around 54.\" class=\"forecast-icon\" src=\"newimages/medium/nskc.png\" title=\"Sunday Night: Clear, with a low around 54.\"/></p><p class=\"short-desc\">Clear</p><p class=\"temp temp-low\">Low: 54 °F</p></div></li><li class=\"forecast-tombstone\">\n",
       "<div class=\"tombstone-container\">\n",
       "<p class=\"period-name\">Monday<br/><br/></p>\n",
       "<p><img alt=\"Monday: Sunny, with a high near 67.\" class=\"forecast-icon\" src=\"newimages/medium/skc.png\" title=\"Monday: Sunny, with a high near 67.\"/></p><p class=\"short-desc\">Sunny</p><p class=\"temp temp-high\">High: 67 °F</p></div></li></ul>"
      ]
     },
     "execution_count": 78,
     "metadata": {},
     "output_type": "execute_result"
    }
   ],
   "source": [
    "soup = BeautifulSoup(page.content, 'html.parser')\n",
    "seven_day = soup.find(id='seven-day-forecast-list')\n",
    "seven_day"
   ]
  },
  {
   "cell_type": "code",
   "execution_count": 90,
   "metadata": {},
   "outputs": [
    {
     "data": {
      "text/plain": [
       "[<li class=\"forecast-tombstone\">\n",
       " <div class=\"tombstone-container\">\n",
       " <p class=\"period-name\">Today<br/><br/></p>\n",
       " <p><img alt=\"Today: Mostly sunny, with a high near 65. West wind 9 to 16 mph, with gusts as high as 21 mph. \" class=\"forecast-icon\" src=\"newimages/medium/sct.png\" title=\"Today: Mostly sunny, with a high near 65. West wind 9 to 16 mph, with gusts as high as 21 mph. \"/></p><p class=\"short-desc\">Mostly Sunny</p><p class=\"temp temp-high\">High: 65 °F</p></div></li>,\n",
       " <li class=\"forecast-tombstone\">\n",
       " <div class=\"tombstone-container\">\n",
       " <p class=\"period-name\">Tonight<br/><br/></p>\n",
       " <p><img alt=\"Tonight: Mostly cloudy, with a low around 55. West wind 7 to 16 mph, with gusts as high as 21 mph. \" class=\"forecast-icon\" src=\"newimages/medium/nbkn.png\" title=\"Tonight: Mostly cloudy, with a low around 55. West wind 7 to 16 mph, with gusts as high as 21 mph. \"/></p><p class=\"short-desc\">Mostly Cloudy</p><p class=\"temp temp-low\">Low: 55 °F</p></div></li>,\n",
       " <li class=\"forecast-tombstone\">\n",
       " <div class=\"tombstone-container\">\n",
       " <p class=\"period-name\">Friday<br/><br/></p>\n",
       " <p><img alt=\"Friday: Mostly sunny, with a high near 67. Light southwest wind becoming west 9 to 14 mph in the afternoon. \" class=\"forecast-icon\" src=\"newimages/medium/sct.png\" title=\"Friday: Mostly sunny, with a high near 67. Light southwest wind becoming west 9 to 14 mph in the afternoon. \"/></p><p class=\"short-desc\">Mostly Sunny</p><p class=\"temp temp-high\">High: 67 °F</p></div></li>,\n",
       " <li class=\"forecast-tombstone\">\n",
       " <div class=\"tombstone-container\">\n",
       " <p class=\"period-name\">Friday<br/>Night</p>\n",
       " <p><img alt=\"Friday Night: Mostly clear, with a low around 54. West wind 7 to 14 mph, with gusts as high as 18 mph. \" class=\"forecast-icon\" src=\"newimages/medium/nfew.png\" title=\"Friday Night: Mostly clear, with a low around 54. West wind 7 to 14 mph, with gusts as high as 18 mph. \"/></p><p class=\"short-desc\">Mostly Clear</p><p class=\"temp temp-low\">Low: 54 °F</p></div></li>,\n",
       " <li class=\"forecast-tombstone\">\n",
       " <div class=\"tombstone-container\">\n",
       " <p class=\"period-name\">Saturday<br/><br/></p>\n",
       " <p><img alt=\"Saturday: Sunny, with a high near 67. West wind 8 to 17 mph, with gusts as high as 22 mph. \" class=\"forecast-icon\" src=\"newimages/medium/few.png\" title=\"Saturday: Sunny, with a high near 67. West wind 8 to 17 mph, with gusts as high as 22 mph. \"/></p><p class=\"short-desc\">Sunny</p><p class=\"temp temp-high\">High: 67 °F</p></div></li>,\n",
       " <li class=\"forecast-tombstone\">\n",
       " <div class=\"tombstone-container\">\n",
       " <p class=\"period-name\">Saturday<br/>Night</p>\n",
       " <p><img alt=\"Saturday Night: Clear, with a low around 54.\" class=\"forecast-icon\" src=\"newimages/medium/nskc.png\" title=\"Saturday Night: Clear, with a low around 54.\"/></p><p class=\"short-desc\">Clear</p><p class=\"temp temp-low\">Low: 54 °F</p></div></li>,\n",
       " <li class=\"forecast-tombstone\">\n",
       " <div class=\"tombstone-container\">\n",
       " <p class=\"period-name\">Sunday<br/><br/></p>\n",
       " <p><img alt=\"Sunday: Sunny, with a high near 68.\" class=\"forecast-icon\" src=\"newimages/medium/few.png\" title=\"Sunday: Sunny, with a high near 68.\"/></p><p class=\"short-desc\">Sunny</p><p class=\"temp temp-high\">High: 68 °F</p></div></li>,\n",
       " <li class=\"forecast-tombstone\">\n",
       " <div class=\"tombstone-container\">\n",
       " <p class=\"period-name\">Sunday<br/>Night</p>\n",
       " <p><img alt=\"Sunday Night: Clear, with a low around 54.\" class=\"forecast-icon\" src=\"newimages/medium/nskc.png\" title=\"Sunday Night: Clear, with a low around 54.\"/></p><p class=\"short-desc\">Clear</p><p class=\"temp temp-low\">Low: 54 °F</p></div></li>,\n",
       " <li class=\"forecast-tombstone\">\n",
       " <div class=\"tombstone-container\">\n",
       " <p class=\"period-name\">Monday<br/><br/></p>\n",
       " <p><img alt=\"Monday: Sunny, with a high near 67.\" class=\"forecast-icon\" src=\"newimages/medium/skc.png\" title=\"Monday: Sunny, with a high near 67.\"/></p><p class=\"short-desc\">Sunny</p><p class=\"temp temp-high\">High: 67 °F</p></div></li>]"
      ]
     },
     "execution_count": 90,
     "metadata": {},
     "output_type": "execute_result"
    }
   ],
   "source": [
    "forecast_items = seven_day.find_all(class_='forecast-tombstone')\n",
    "forecast_items"
   ]
  },
  {
   "cell_type": "code",
   "execution_count": 94,
   "metadata": {},
   "outputs": [
    {
     "data": {
      "text/plain": [
       "<li class=\"forecast-tombstone\">\n",
       "<div class=\"tombstone-container\">\n",
       "<p class=\"period-name\">Today<br/><br/></p>\n",
       "<p><img alt=\"Today: Mostly sunny, with a high near 65. West wind 9 to 16 mph, with gusts as high as 21 mph. \" class=\"forecast-icon\" src=\"newimages/medium/sct.png\" title=\"Today: Mostly sunny, with a high near 65. West wind 9 to 16 mph, with gusts as high as 21 mph. \"/></p><p class=\"short-desc\">Mostly Sunny</p><p class=\"temp temp-high\">High: 65 °F</p></div></li>"
      ]
     },
     "execution_count": 94,
     "metadata": {},
     "output_type": "execute_result"
    }
   ],
   "source": [
    "today = forecast_items\n",
    "today"
   ]
  },
  {
   "cell_type": "code",
   "execution_count": 99,
   "metadata": {},
   "outputs": [
    {
     "data": {
      "text/plain": [
       "'Today'"
      ]
     },
     "execution_count": 99,
     "metadata": {},
     "output_type": "execute_result"
    }
   ],
   "source": [
    "period = today.p.get_text()\n",
    "period"
   ]
  },
  {
   "cell_type": "code",
   "execution_count": 103,
   "metadata": {},
   "outputs": [
    {
     "data": {
      "text/plain": [
       "'Mostly Sunny'"
      ]
     },
     "execution_count": 103,
     "metadata": {},
     "output_type": "execute_result"
    }
   ],
   "source": [
    "short_desc = today.find(class_='short-desc').get_text()\n",
    "short_desc"
   ]
  },
  {
   "cell_type": "code",
   "execution_count": 104,
   "metadata": {},
   "outputs": [
    {
     "data": {
      "text/plain": [
       "'High: 65 °F'"
      ]
     },
     "execution_count": 104,
     "metadata": {},
     "output_type": "execute_result"
    }
   ],
   "source": [
    "temp = today.find(class_='temp').get_text()\n",
    "temp"
   ]
  },
  {
   "cell_type": "code",
   "execution_count": 108,
   "metadata": {},
   "outputs": [
    {
     "data": {
      "text/plain": [
       "'Today: Mostly sunny, with a high near 65. West wind 9 to 16 mph, with gusts as high as 21 mph. '"
      ]
     },
     "execution_count": 108,
     "metadata": {},
     "output_type": "execute_result"
    }
   ],
   "source": [
    "img = today.find('img')\n",
    "img['title']"
   ]
  },
  {
   "cell_type": "code",
   "execution_count": 130,
   "metadata": {
    "scrolled": true
   },
   "outputs": [
    {
     "data": {
      "text/plain": [
       "(['Mostly Sunny',\n",
       "  'Mostly Cloudy',\n",
       "  'Mostly Sunny',\n",
       "  'Mostly Clear',\n",
       "  'Sunny',\n",
       "  'Clear',\n",
       "  'Sunny',\n",
       "  'Clear',\n",
       "  'Sunny'],\n",
       " ['Today',\n",
       "  'Tonight',\n",
       "  'Friday',\n",
       "  'FridayNight',\n",
       "  'Saturday',\n",
       "  'SaturdayNight',\n",
       "  'Sunday',\n",
       "  'SundayNight',\n",
       "  'Monday'],\n",
       " ['High: 65 °F',\n",
       "  'Low: 55 °F',\n",
       "  'High: 67 °F',\n",
       "  'Low: 54 °F',\n",
       "  'High: 67 °F',\n",
       "  'Low: 54 °F',\n",
       "  'High: 68 °F',\n",
       "  'Low: 54 °F',\n",
       "  'High: 67 °F'],\n",
       " ['Today: Mostly sunny, with a high near 65. West wind 9 to 16 mph, with gusts as high as 21 mph. ',\n",
       "  'Tonight: Mostly cloudy, with a low around 55. West wind 7 to 16 mph, with gusts as high as 21 mph. ',\n",
       "  'Friday: Mostly sunny, with a high near 67. Light southwest wind becoming west 9 to 14 mph in the afternoon. ',\n",
       "  'Friday Night: Mostly clear, with a low around 54. West wind 7 to 14 mph, with gusts as high as 18 mph. ',\n",
       "  'Saturday: Sunny, with a high near 67. West wind 8 to 17 mph, with gusts as high as 22 mph. ',\n",
       "  'Saturday Night: Clear, with a low around 54.',\n",
       "  'Sunday: Sunny, with a high near 68.',\n",
       "  'Sunday Night: Clear, with a low around 54.',\n",
       "  'Monday: Sunny, with a high near 67.'])"
      ]
     },
     "execution_count": 130,
     "metadata": {},
     "output_type": "execute_result"
    }
   ],
   "source": [
    "period_names = []\n",
    "short_descs = []\n",
    "temps = []\n",
    "descs = []\n",
    "for item in forecast_items:\n",
    "    short_descs.append(item.find(class_='short-desc').get_text())\n",
    "    period_names.append(item.p.get_text())\n",
    "    temps.append(item.find(class_='temp').get_text())\n",
    "    descs.append(item.find('img')['title'])\n",
    "short_descs,period_names,temps,descs"
   ]
  },
  {
   "cell_type": "code",
   "execution_count": 126,
   "metadata": {},
   "outputs": [
    {
     "data": {
      "text/plain": [
       "[<p class=\"period-name\">Today<br/><br/></p>,\n",
       " <p class=\"period-name\">Tonight<br/><br/></p>,\n",
       " <p class=\"period-name\">Friday<br/><br/></p>,\n",
       " <p class=\"period-name\">Friday<br/>Night</p>,\n",
       " <p class=\"period-name\">Saturday<br/><br/></p>,\n",
       " <p class=\"period-name\">Saturday<br/>Night</p>,\n",
       " <p class=\"period-name\">Sunday<br/><br/></p>,\n",
       " <p class=\"period-name\">Sunday<br/>Night</p>,\n",
       " <p class=\"period-name\">Monday<br/><br/></p>]"
      ]
     },
     "execution_count": 126,
     "metadata": {},
     "output_type": "execute_result"
    }
   ],
   "source": [
    "period_tags = seven_day.select('.tombstone-container .period-name')\n",
    "period_tags"
   ]
  },
  {
   "cell_type": "code",
   "execution_count": 131,
   "metadata": {},
   "outputs": [
    {
     "data": {
      "text/plain": [
       "['Today',\n",
       " 'Tonight',\n",
       " 'Friday',\n",
       " 'FridayNight',\n",
       " 'Saturday',\n",
       " 'SaturdayNight',\n",
       " 'Sunday',\n",
       " 'SundayNight',\n",
       " 'Monday']"
      ]
     },
     "execution_count": 131,
     "metadata": {},
     "output_type": "execute_result"
    }
   ],
   "source": [
    "periods = [i.get_text() for i in period_tags]\n",
    "periods"
   ]
  },
  {
   "cell_type": "code",
   "execution_count": 135,
   "metadata": {},
   "outputs": [
    {
     "data": {
      "text/html": [
       "<div>\n",
       "<style scoped>\n",
       "    .dataframe tbody tr th:only-of-type {\n",
       "        vertical-align: middle;\n",
       "    }\n",
       "\n",
       "    .dataframe tbody tr th {\n",
       "        vertical-align: top;\n",
       "    }\n",
       "\n",
       "    .dataframe thead th {\n",
       "        text-align: right;\n",
       "    }\n",
       "</style>\n",
       "<table border=\"1\" class=\"dataframe\">\n",
       "  <thead>\n",
       "    <tr style=\"text-align: right;\">\n",
       "      <th></th>\n",
       "      <th>description</th>\n",
       "      <th>period</th>\n",
       "      <th>short_description</th>\n",
       "      <th>temperatare</th>\n",
       "    </tr>\n",
       "  </thead>\n",
       "  <tbody>\n",
       "    <tr>\n",
       "      <th>0</th>\n",
       "      <td>Today: Mostly sunny, with a high near 65. West...</td>\n",
       "      <td>Today</td>\n",
       "      <td>Mostly Sunny</td>\n",
       "      <td>High: 65 °F</td>\n",
       "    </tr>\n",
       "    <tr>\n",
       "      <th>1</th>\n",
       "      <td>Tonight: Mostly cloudy, with a low around 55. ...</td>\n",
       "      <td>Tonight</td>\n",
       "      <td>Mostly Cloudy</td>\n",
       "      <td>Low: 55 °F</td>\n",
       "    </tr>\n",
       "    <tr>\n",
       "      <th>2</th>\n",
       "      <td>Friday: Mostly sunny, with a high near 67. Lig...</td>\n",
       "      <td>Friday</td>\n",
       "      <td>Mostly Sunny</td>\n",
       "      <td>High: 67 °F</td>\n",
       "    </tr>\n",
       "    <tr>\n",
       "      <th>3</th>\n",
       "      <td>Friday Night: Mostly clear, with a low around ...</td>\n",
       "      <td>FridayNight</td>\n",
       "      <td>Mostly Clear</td>\n",
       "      <td>Low: 54 °F</td>\n",
       "    </tr>\n",
       "    <tr>\n",
       "      <th>4</th>\n",
       "      <td>Saturday: Sunny, with a high near 67. West win...</td>\n",
       "      <td>Saturday</td>\n",
       "      <td>Sunny</td>\n",
       "      <td>High: 67 °F</td>\n",
       "    </tr>\n",
       "    <tr>\n",
       "      <th>5</th>\n",
       "      <td>Saturday Night: Clear, with a low around 54.</td>\n",
       "      <td>SaturdayNight</td>\n",
       "      <td>Clear</td>\n",
       "      <td>Low: 54 °F</td>\n",
       "    </tr>\n",
       "    <tr>\n",
       "      <th>6</th>\n",
       "      <td>Sunday: Sunny, with a high near 68.</td>\n",
       "      <td>Sunday</td>\n",
       "      <td>Sunny</td>\n",
       "      <td>High: 68 °F</td>\n",
       "    </tr>\n",
       "    <tr>\n",
       "      <th>7</th>\n",
       "      <td>Sunday Night: Clear, with a low around 54.</td>\n",
       "      <td>SundayNight</td>\n",
       "      <td>Clear</td>\n",
       "      <td>Low: 54 °F</td>\n",
       "    </tr>\n",
       "    <tr>\n",
       "      <th>8</th>\n",
       "      <td>Monday: Sunny, with a high near 67.</td>\n",
       "      <td>Monday</td>\n",
       "      <td>Sunny</td>\n",
       "      <td>High: 67 °F</td>\n",
       "    </tr>\n",
       "  </tbody>\n",
       "</table>\n",
       "</div>"
      ],
      "text/plain": [
       "                                         description         period  \\\n",
       "0  Today: Mostly sunny, with a high near 65. West...          Today   \n",
       "1  Tonight: Mostly cloudy, with a low around 55. ...        Tonight   \n",
       "2  Friday: Mostly sunny, with a high near 67. Lig...         Friday   \n",
       "3  Friday Night: Mostly clear, with a low around ...    FridayNight   \n",
       "4  Saturday: Sunny, with a high near 67. West win...       Saturday   \n",
       "5       Saturday Night: Clear, with a low around 54.  SaturdayNight   \n",
       "6                Sunday: Sunny, with a high near 68.         Sunday   \n",
       "7         Sunday Night: Clear, with a low around 54.    SundayNight   \n",
       "8                Monday: Sunny, with a high near 67.         Monday   \n",
       "\n",
       "  short_description  temperatare  \n",
       "0      Mostly Sunny  High: 65 °F  \n",
       "1     Mostly Cloudy   Low: 55 °F  \n",
       "2      Mostly Sunny  High: 67 °F  \n",
       "3      Mostly Clear   Low: 54 °F  \n",
       "4             Sunny  High: 67 °F  \n",
       "5             Clear   Low: 54 °F  \n",
       "6             Sunny  High: 68 °F  \n",
       "7             Clear   Low: 54 °F  \n",
       "8             Sunny  High: 67 °F  "
      ]
     },
     "execution_count": 135,
     "metadata": {},
     "output_type": "execute_result"
    }
   ],
   "source": [
    "import pandas as pd\n",
    "weather = pd.DataFrame({\"period\":periods,\"short_description\":short_descs,\"temperatare\":temps,\"description\":descs})\n",
    "weather"
   ]
  },
  {
   "cell_type": "code",
   "execution_count": 3,
   "metadata": {},
   "outputs": [
    {
     "data": {
      "text/html": [
       "<div>\n",
       "<style scoped>\n",
       "    .dataframe tbody tr th:only-of-type {\n",
       "        vertical-align: middle;\n",
       "    }\n",
       "\n",
       "    .dataframe tbody tr th {\n",
       "        vertical-align: top;\n",
       "    }\n",
       "\n",
       "    .dataframe thead th {\n",
       "        text-align: right;\n",
       "    }\n",
       "</style>\n",
       "<table border=\"1\" class=\"dataframe\">\n",
       "  <thead>\n",
       "    <tr style=\"text-align: right;\">\n",
       "      <th></th>\n",
       "      <th>description</th>\n",
       "      <th>period</th>\n",
       "      <th>short_description</th>\n",
       "      <th>temperature</th>\n",
       "    </tr>\n",
       "  </thead>\n",
       "  <tbody>\n",
       "    <tr>\n",
       "      <th>0</th>\n",
       "      <td>Overnight: Mostly cloudy, with a low around 55...</td>\n",
       "      <td>Overnight</td>\n",
       "      <td>Mostly Cloudy</td>\n",
       "      <td>Low: 55 °F</td>\n",
       "    </tr>\n",
       "    <tr>\n",
       "      <th>1</th>\n",
       "      <td>Friday: Mostly cloudy, then gradually becoming...</td>\n",
       "      <td>Friday</td>\n",
       "      <td>DecreasingClouds</td>\n",
       "      <td>High: 67 °F</td>\n",
       "    </tr>\n",
       "    <tr>\n",
       "      <th>2</th>\n",
       "      <td>Friday Night: Mostly clear, with a low around ...</td>\n",
       "      <td>FridayNight</td>\n",
       "      <td>Mostly Clear</td>\n",
       "      <td>Low: 53 °F</td>\n",
       "    </tr>\n",
       "    <tr>\n",
       "      <th>3</th>\n",
       "      <td>Saturday: Sunny, with a high near 67. West win...</td>\n",
       "      <td>Saturday</td>\n",
       "      <td>Sunny</td>\n",
       "      <td>High: 67 °F</td>\n",
       "    </tr>\n",
       "    <tr>\n",
       "      <th>4</th>\n",
       "      <td>Saturday Night: Clear, with a low around 54. W...</td>\n",
       "      <td>SaturdayNight</td>\n",
       "      <td>Clear</td>\n",
       "      <td>Low: 54 °F</td>\n",
       "    </tr>\n",
       "    <tr>\n",
       "      <th>5</th>\n",
       "      <td>Sunday: Sunny, with a high near 68.</td>\n",
       "      <td>Sunday</td>\n",
       "      <td>Sunny</td>\n",
       "      <td>High: 68 °F</td>\n",
       "    </tr>\n",
       "    <tr>\n",
       "      <th>6</th>\n",
       "      <td>Sunday Night: Clear, with a low around 54.</td>\n",
       "      <td>SundayNight</td>\n",
       "      <td>Clear</td>\n",
       "      <td>Low: 54 °F</td>\n",
       "    </tr>\n",
       "    <tr>\n",
       "      <th>7</th>\n",
       "      <td>Monday: Sunny, with a high near 67.</td>\n",
       "      <td>Monday</td>\n",
       "      <td>Sunny</td>\n",
       "      <td>High: 67 °F</td>\n",
       "    </tr>\n",
       "    <tr>\n",
       "      <th>8</th>\n",
       "      <td>Monday Night: Mostly clear, with a low around 55.</td>\n",
       "      <td>MondayNight</td>\n",
       "      <td>Mostly Clear</td>\n",
       "      <td>Low: 55 °F</td>\n",
       "    </tr>\n",
       "  </tbody>\n",
       "</table>\n",
       "</div>"
      ],
      "text/plain": [
       "                                         description         period  \\\n",
       "0  Overnight: Mostly cloudy, with a low around 55...      Overnight   \n",
       "1  Friday: Mostly cloudy, then gradually becoming...         Friday   \n",
       "2  Friday Night: Mostly clear, with a low around ...    FridayNight   \n",
       "3  Saturday: Sunny, with a high near 67. West win...       Saturday   \n",
       "4  Saturday Night: Clear, with a low around 54. W...  SaturdayNight   \n",
       "5                Sunday: Sunny, with a high near 68.         Sunday   \n",
       "6         Sunday Night: Clear, with a low around 54.    SundayNight   \n",
       "7                Monday: Sunny, with a high near 67.         Monday   \n",
       "8  Monday Night: Mostly clear, with a low around 55.    MondayNight   \n",
       "\n",
       "  short_description  temperature  \n",
       "0     Mostly Cloudy   Low: 55 °F  \n",
       "1  DecreasingClouds  High: 67 °F  \n",
       "2      Mostly Clear   Low: 53 °F  \n",
       "3             Sunny  High: 67 °F  \n",
       "4             Clear   Low: 54 °F  \n",
       "5             Sunny  High: 68 °F  \n",
       "6             Clear   Low: 54 °F  \n",
       "7             Sunny  High: 67 °F  \n",
       "8      Mostly Clear   Low: 55 °F  "
      ]
     },
     "execution_count": 3,
     "metadata": {},
     "output_type": "execute_result"
    }
   ],
   "source": [
    "import requests\n",
    "from bs4 import BeautifulSoup\n",
    "import pandas as pd\n",
    "\n",
    "web_page= \"http://forecast.weather.gov/MapClick.php?lat=37.7772&lon=-122.4168\"\n",
    "page = requests.get(\"http://forecast.weather.gov/MapClick.php?lat=37.7772&lon=-122.4168\")\n",
    "soup = BeautifulSoup(page.content, 'html.parser')\n",
    "\n",
    "seven_day = soup.find(id='seven-day-forecast-list')\n",
    "forecast_items = seven_day.find_all(class_='forecast-tombstone')\n",
    "\n",
    "period_names = []\n",
    "short_descs = []\n",
    "temps = []\n",
    "descs = []\n",
    "\n",
    "for item in forecast_items:\n",
    "    period_names.append(item.p.get_text())\n",
    "    short_descs.append(item.find(class_='short-desc').get_text())\n",
    "    temps.append(item.find(class_='temp').get_text())\n",
    "    descs.append(item.find('img')['title'])\n",
    "\n",
    "weather = pd.DataFrame({\"period\":period_names,\"short_description\":short_descs,\"temperature\":temps,\"description\":descs})\n",
    "weather"
   ]
  },
  {
   "cell_type": "code",
   "execution_count": null,
   "metadata": {},
   "outputs": [],
   "source": []
  }
 ],
 "metadata": {
  "kernelspec": {
   "display_name": "Python 3",
   "language": "python",
   "name": "python3"
  },
  "language_info": {
   "codemirror_mode": {
    "name": "ipython",
    "version": 3
   },
   "file_extension": ".py",
   "mimetype": "text/x-python",
   "name": "python",
   "nbconvert_exporter": "python",
   "pygments_lexer": "ipython3",
   "version": "3.6.4"
  }
 },
 "nbformat": 4,
 "nbformat_minor": 2
}
